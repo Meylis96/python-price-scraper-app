{
 "cells": [
  {
   "cell_type": "code",
   "execution_count": 1,
   "metadata": {},
   "outputs": [],
   "source": [
    "import requests\n",
    "from requests_html import HTML\n",
    "from selenium import webdriver\n",
    "import time\n",
    "from selenium.webdriver.chrome.options import Options"
   ]
  },
  {
   "cell_type": "code",
   "execution_count": 2,
   "metadata": {},
   "outputs": [],
   "source": [
    "options = Options()\n",
    "options.add_argument(\"--headless\")\n",
    "\n",
    "driver = webdriver.Chrome(options=options)"
   ]
  },
  {
   "cell_type": "code",
   "execution_count": 3,
   "metadata": {},
   "outputs": [],
   "source": [
    "links = [\n",
    "    \"https://www.allkeyshop.com/blog/buy-fortnite-eon-skin-xbox-one-compare-prices\",\n",
    "    \"https://www.allkeyshop.com/blog/buy-max-payne-2-the-fall-of-max-payne-cd-key-compare-prices\",\n",
    "    \"https://www.allkeyshop.com/blog/buy-sims-4-dine-out-cd-key-compare-prices\",\n",
    "    \"https://www.allkeyshop.com/blog/buy-the-sims-4-bowling-night-stuff-cd-key-compare-prices\"\n",
    "]"
   ]
  },
  {
   "cell_type": "code",
   "execution_count": 4,
   "metadata": {},
   "outputs": [],
   "source": [
    "first_url = links[0]"
   ]
  },
  {
   "cell_type": "code",
   "execution_count": 5,
   "metadata": {},
   "outputs": [],
   "source": [
    "driver.get(first_url)"
   ]
  },
  {
   "cell_type": "code",
   "execution_count": 6,
   "metadata": {},
   "outputs": [],
   "source": [
    "body_el = driver.find_element_by_css_selector(\"body\")\n",
    "html_str = body_el.get_attribute(\"innerHTML\")"
   ]
  },
  {
   "cell_type": "code",
   "execution_count": 7,
   "metadata": {},
   "outputs": [],
   "source": [
    "html_obj = HTML(html=html_str)"
   ]
  },
  {
   "cell_type": "code",
   "execution_count": 8,
   "metadata": {},
   "outputs": [],
   "source": [
    "def scrape_product_page(url, title_lookup = \"h1[class='text-truncate'] > span[itemprop='name']\", price_lookup = \"span[data-offer-price-container]\", seller_lookup = \"span[class='offers-merchant-name']\", platform_lookup = \"div[class='offers-edition-region text-truncate text-capitalize']\", edition_lookup = \"div[class='offers-table-row-cell text-center d-none d-md-table-cell'] > a\", stock_lookup = \"div[class='offers-table-row-cell buy-btn-cell'] > a\"):\n",
    "    driver.get(url)\n",
    "    time.sleep(1.2)\n",
    "    body_el = driver.find_element_by_css_selector(\"body\")\n",
    "    html_str = body_el.get_attribute(\"innerHTML\")\n",
    "    html_obj = HTML(html=html_str)\n",
    "    \n",
    "#     GET PRODUCT NAME\n",
    "    product_name = driver.find_elements_by_css_selector(title_lookup)\n",
    "#     CREATE LIST FOR NAME\n",
    "    name_output = []\n",
    "    \n",
    "#     GET PRODUCT SELLER\n",
    "    product_seller = driver.find_elements_by_css_selector(seller_lookup)\n",
    "#     CREATE LIST FOR SELLER\n",
    "    seller_output = []\n",
    "    \n",
    "#     GET PRODUCT PLATFORM\n",
    "    product_platform = driver.find_elements_by_css_selector(platform_lookup)\n",
    "#     CREATE LIST FOR PLATFROM\n",
    "    platform_output = []\n",
    "    \n",
    "#     GET PRODUCT EDITION\n",
    "    product_edition = driver.find_elements_by_css_selector(edition_lookup)\n",
    "#     CREATE LIST FOR EDITIONS\n",
    "    edition_output = []\n",
    "    \n",
    "#     GET PRODUCT PRICES\n",
    "    product_price = driver.find_elements_by_css_selector(price_lookup)\n",
    "#     CREATE LIST FOR PRICES\n",
    "    price_output = []\n",
    "    \n",
    "#     GET PRODUCT STOCK \n",
    "    product_stock = driver.find_elements_by_css_selector(stock_lookup)\n",
    "#     CREATE LIST FOR STOCK\n",
    "    stock_output = []\n",
    "    \n",
    "#     CREATE LIST FOR TOTAL OUTPUT\n",
    "    total_output = []\n",
    "    \n",
    "#     LOOP FOR NAME\n",
    "    for names in product_name:\n",
    "        name = names.get_attribute(\"innerText\").strip()\n",
    "        name_output.append(name)\n",
    "        \n",
    "#     LOOP FOR SELLERS\n",
    "    for sellers in product_seller:\n",
    "        seller = sellers.get_attribute(\"innerText\").strip()\n",
    "        seller_output.append(seller)\n",
    "        \n",
    "#     LOOP FOR PLATFORMS\n",
    "    for platforms in product_platform:\n",
    "        platform = platforms.get_attribute(\"innerText\").strip()\n",
    "        platform_output.append(platform)\n",
    "        \n",
    "#     LOOP FOR EDITIONS\n",
    "    for editions in product_edition:\n",
    "        edition = editions.get_attribute(\"innerText\").strip()\n",
    "        edition_output.append(edition)\n",
    "        \n",
    "#     LOOP FOR PRICES\n",
    "    for prices in product_price:\n",
    "        price_display = prices.get_attribute(\"innerText\").strip()\n",
    "        price_output.append(price_display)\n",
    "    \n",
    "#     LOOP FOR STOCK WITH REMOVING \"\"\n",
    "    for stock in product_stock:\n",
    "        stocks_availability = stock.get_attribute(\"innerText\").strip()\n",
    "        if(stocks_availability != \"\"):\n",
    "            stock_output.append(stocks_availability)\n",
    "            \n",
    "#     APPENDING ALL OUTPUT TO TOTAL OUTPUT\n",
    "    total_output.append(name_output)\n",
    "    total_output.append(seller_output)\n",
    "    total_output.append(platform_output)\n",
    "    total_output.append(edition_output)\n",
    "    total_output.append(price_output)\n",
    "    total_output.append(stock_output)\n",
    "#     print(total_output)\n",
    "    return total_output"
   ]
  },
  {
   "cell_type": "code",
   "execution_count": 9,
   "metadata": {},
   "outputs": [
    {
     "name": "stdout",
     "output_type": "stream",
     "text": [
      "[['Fortnite Eon Skin'], ['Gamivo', 'G2A', 'Eneba', 'Eneba', 'CJS-CDKeys', 'Eneba', 'CDKeys.com', 'Eneba', 'Eneba', 'Eneba', 'G2A', 'CJS-CDKeys', 'Instant Gaming', 'Instant Gaming', 'PremiumCDkeys', 'CDKeys.com'], ['Xbox One Code', 'Xbox One Code', 'US XBox Code', 'EU Xbox Code', 'Xbox One Code', 'Xbox One Code', 'Xbox One Code', 'Xbox One Code', 'EU Xbox Code', 'US XBox Code', 'EU Xbox Code', 'Xbox One Code', 'Xbox One Code', 'Xbox One Code', 'Xbox One Code', 'Xbox One Code'], ['+500 V-bucks', '+500 V-bucks', '+500 V-bucks', '+500 V-bucks', '+500 V-bucks', '+500 V-bucks', '+500 V-bucks', '+2000 V-bucks', '+2000 V-bucks', '+2000 V-bucks', '+2000 V-bucks', '+2000 V-bucks', '+500 V-bucks', '+2000 V-bucks', 'Bundle', '+2000 V-bucks'], ['51.36€', '51.86€', '53.08€', '53.08€', '53.20€', '53.20€', '90.39€', '96.85€', '126.00€', '126.04€', '144.72€', '174.06€', '24.99€', '39.98€', '42.75€', '110.69€'], ['Shop now', 'Shop now', 'Shop now', 'Shop now', 'Shop now', 'Shop now', 'Shop now', 'Shop now', 'Shop now', 'Shop now', 'Shop now', 'Shop now', 'No Stock', 'No Stock', 'No Stock', 'No Stock']]\n",
      "[['Max Payne 2 The Fall Of Max Payne'], ['Gamivo', 'Kinguin', 'Eneba', 'Gamingdragons', 'Instant Gaming', 'G2A', 'CJS-CDKeys', 'G2A', '2Game UK', 'Gamesplanet UK', 'G2A', 'Gamebillet', 'Gamebillet', '2Game EU', '2Game EU', 'Fanatical', 'Allyouplay', 'Allyouplay', '2Game UK', 'G2A', 'Gamesload EU', 'Gamesrocket EU', 'Dlgamer EU', 'Dlgamer EU', 'Dlgamer EU', 'Gamesrocket EU', 'Greenmangaming', 'Amazon.de', 'GamersGate', 'GamersGate', 'Gamesplanet FR', 'VOIDU EU', 'Rockstar Launcher', 'Gamesplanet DE', 'Gamesplanet UK', 'GamersGate UK', 'Gamesrocket UK', 'Gamesplanet DE', 'Gamesplanet FR', 'HRK Game', 'CDKeys.com', 'livecards.eu', '(0 reviews)'], ['Steam', 'Steam', 'Steam', 'Steam', 'Steam', 'Steam', 'Steam', 'Steam EU', 'Steam', 'Steam', 'Steam Gift', 'Steam', 'Steam', 'Steam', 'Steam', 'Steam', 'Steam', 'Steam', 'Steam', 'Steam', 'Steam', 'Steam', 'Rockstar ROW', 'Steam ROW', 'Steam', 'Steam', 'Steam', 'Steam', 'Steam', 'Steam', 'Steam', 'Steam', 'Rockstar', 'Steam', 'Steam', 'Steam', 'Steam', 'Steam', 'Steam', 'Steam', 'Steam', 'Steam'], ['Standard', 'Standard', 'Standard', 'Standard', 'Standard', 'Standard', 'Standard', 'Standard', 'Standard', 'Standard', 'Standard', 'Bundle', 'Standard', 'Standard', 'Bundle', 'Standard', 'Standard', 'Bundle', 'Bundle', 'Bundle', 'Standard', 'Standard', 'Bundle', 'Bundle', 'Standard', 'Bundle', 'Standard', 'Standard', 'Standard', 'Bundle', 'Standard', 'Standard', 'Standard', 'Standard', 'Bundle', 'Bundle', 'Bundle', 'Bundle', 'Bundle', 'Standard', 'Standard', 'Standard'], ['1.31€', '1.66€', '1.86€', '1.95€', '2.81€', '3.48€', '3.60€', '4.66€', '5.62€', '6.57€', '6.58€', '7.89€', '7.89€', '8.10€', '8.10€', '8.89€', '8.99€', '8.99€', '9.37€', '9.42€', '9.49€', '9.49€', '9.79€', '9.79€', '9.79€', '9.95€', '9.99€', '9.99€', '9.99€', '9.99€', '9.99€', '9.99€', '9.99€', '9.99€', '10.96€', '10.96€', '11.01€', '19.98€', '19.98€', '1.64€', '2.69€', '4.95€'], ['Shop now', 'Shop now', 'Shop now', 'Shop now', 'Shop now', 'Shop now', 'Shop now', 'Shop now', 'Shop now', 'Shop now', 'Shop now', 'Shop now', 'Shop now', 'Shop now', 'Shop now', 'Shop now', 'Shop now', 'Shop now', 'Shop now', 'Shop now', 'Shop now', 'Shop now', 'Shop now', 'Shop now', 'Shop now', 'Shop now', 'Shop now', 'Shop now', 'Shop now', 'Shop now', 'Shop now', 'Shop now', 'Shop now', 'Shop now', 'Shop now', 'Shop now', 'Shop now', 'Shop now', 'Shop now', 'No Stock', 'No Stock', 'No Stock']]\n",
      "[['Sims 4 Dine Out'], ['Eneba', 'Gamivo', 'CJS-CDKeys', 'Instant Gaming', 'Kinguin', 'CDKeys.com', 'Mmoga', 'Play-Asia', 'Punktid', 'G2A', 'Origin', 'Origin', 'Gamivo', 'G2A', 'CDKeys.com', 'Origin', 'HRK Game', 'Gamingdragons', 'Instant Gaming', 'HRK Game'], ['Origin', 'Origin', 'Origin', 'Origin', 'Origin', 'Origin', 'Origin', 'Origin', 'Origin', 'Origin', 'Origin', 'Origin', 'Origin', 'Origin', 'Origin', 'Origin', 'Origin', 'Origin', 'Origin', 'Origin'], ['DLC', 'DLC', 'DLC', 'DLC', 'DLC', 'DLC', 'DLC', 'DLC', 'DLC', 'DLC', 'DLC', 'DLC', 'Bundle', 'Bundle', 'Bundle', 'Bundle', 'DLC', 'Bundle', 'Bundle', 'Bundle'], ['13.79€', '13.88€', '14.21€', '14.99€', '15.50€', '15.79€', '15.99€', '16.69€', '17.49€', '18.62€', '19.99€', '19.99€', '20.32€', '21.15€', '25.99€', '49.99€', '13.78€', '22.75€', '24.99€', '25.98€'], ['Shop now', 'Shop now', 'Shop now', 'Shop now', 'Shop now', 'Shop now', 'Shop now', 'Shop now', 'Shop now', 'Shop now', 'Shop now', 'Shop now', 'Shop now', 'Shop now', 'Shop now', 'Shop now', 'No Stock', 'No Stock', 'No Stock', 'No Stock']]\n",
      "[['The Sims 4 Bowling Night Stuff'], ['Gamivo', 'Eneba', 'HRK Game', 'Kinguin', 'CDKeys.com', 'G2A', 'Mmoga', 'Instant Gaming', '2Game EU', '2Game UK', 'Punktid', 'Allyouplay', 'Daxter', 'Gamesplanet DE', 'Gamesplanet FR', 'Dlgamer EU', 'CJS-CDKeys', 'Fanatical', 'Origin', 'Amazon.fr Download', 'Amazon.de', 'Gamesplanet UK', 'G2A', 'Origin', 'Kinguin', 'Instant Gaming', 'Gamingdragons', 'HRK Game', 'CDKeys.com'], ['Origin', 'Origin', 'Origin', 'Origin', 'Origin', 'Origin', 'Origin', 'Origin', 'Origin ROW', 'Origin ROW', 'Origin', 'Origin ROW', 'Origin', 'Origin', 'Origin', 'Origin ROW', 'Origin', 'Origin ROW', 'Origin', 'Origin', 'Origin', 'Origin', 'Origin', 'Origin', 'Origin', 'Origin', 'Origin', 'Origin', 'Origin'], ['DLC', 'DLC', 'DLC', 'DLC', 'DLC', 'DLC', 'DLC', 'DLC', 'DLC', 'DLC', 'DLC', 'DLC', 'DLC', 'DLC', 'DLC', 'DLC', 'DLC', 'DLC', 'DLC', 'DLC', 'DLC', 'DLC', 'Bundle', 'Bundle', 'Bundle', 'Bundle', 'Bundle', 'Bundle', 'Bundle'], ['5.19€', '5.49€', '5.82€', '6.17€', '6.19€', '7.47€', '7.49€', '7.99€', '8.37€', '8.42€', '8.49€', '8.99€', '9.22€', '9.49€', '9.49€', '9.49€', '9.68€', '9.99€', '9.99€', '9.99€', '9.99€', '10.41€', '37.67€', '49.99€', '9,344.42€', '20.99€', '22.95€', '23.43€', '30.49€'], ['Shop now', 'Shop now', 'Shop now', 'Shop now', 'Shop now', 'Shop now', 'Shop now', 'Shop now', 'Shop now', 'Shop now', 'Shop now', 'Shop now', 'Shop now', 'Shop now', 'Shop now', 'Shop now', 'Shop now', 'Shop now', 'Shop now', 'Shop now', 'Shop now', 'Shop now', 'Shop now', 'Shop now', 'Shop now', 'No Stock', 'No Stock', 'No Stock', 'No Stock']]\n"
     ]
    }
   ],
   "source": [
    "for link in links:\n",
    "    title, seller, platform, edition, price, stock = (None, None, None, None, None, None)\n",
    "    try:\n",
    "        title, seller, platform, edition, price, stock = scrape_product_page(link)\n",
    "    except:\n",
    "        pass\n",
    "        print(\"Error\")\n",
    "    if title != None and seller != None and platform != None and edition != None and price != None and stock != None:\n",
    "#         import xlwt\n",
    "#         my_xls=xlwt.Workbook(encoding='utf-8')\n",
    "#         my_sheet=my_xls.add_sheet(\"Games_Output\")\n",
    "#         my_sheet.write(0,0,\"First column title\")\n",
    "#         my_sheet.write(0,1,\"Second column title\")\n",
    "#         my_xls.save(\"results.xlsx\")\n",
    "\n",
    "        output = []\n",
    "        output.append(title)\n",
    "        output.append(seller)\n",
    "        output.append(platform)\n",
    "        output.append(edition)\n",
    "        output.append(price)\n",
    "        output.append(stock)\n",
    "        print(output)\n",
    "        print(output,  file=open('Allkeyshop-Output.xlsx', 'a', encoding='utf-8'))\n",
    "\n",
    "#         print(title, seller, platform, edition, price, stock, file=open('Allkeyshop-Output.txt', 'a', encoding='utf-8'))\n",
    "#         import datetime\n",
    "#         now = datetime.datetime.now()\n",
    "#         print(price,  file=open('Allkeyshop-Output.txt', 'a', encoding='utf-8'))\n",
    "#         print(f\"{now.day}-{now.month}-{now.year} {now.hour}:{now.minute}:{now.second}\\n\", file=open('Allkeyshop-Output.txt', 'a', encoding='utf-8'))"
   ]
  },
  {
   "cell_type": "code",
   "execution_count": null,
   "metadata": {},
   "outputs": [],
   "source": []
  },
  {
   "cell_type": "code",
   "execution_count": null,
   "metadata": {},
   "outputs": [],
   "source": []
  }
 ],
 "metadata": {
  "kernelspec": {
   "display_name": "Python 3",
   "language": "python",
   "name": "python3"
  },
  "language_info": {
   "codemirror_mode": {
    "name": "ipython",
    "version": 3
   },
   "file_extension": ".py",
   "mimetype": "text/x-python",
   "name": "python",
   "nbconvert_exporter": "python",
   "pygments_lexer": "ipython3",
   "version": "3.8.5"
  }
 },
 "nbformat": 4,
 "nbformat_minor": 4
}
