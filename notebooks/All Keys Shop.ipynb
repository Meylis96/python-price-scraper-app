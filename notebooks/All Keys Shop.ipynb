{
 "cells": [
  {
   "cell_type": "code",
   "execution_count": 373,
   "metadata": {},
   "outputs": [],
   "source": [
    "import requests\n",
    "from requests_html import HTML\n",
    "from selenium import webdriver\n",
    "import time\n",
    "from selenium.webdriver.chrome.options import Options"
   ]
  },
  {
   "cell_type": "code",
   "execution_count": 374,
   "metadata": {},
   "outputs": [],
   "source": [
    "options = Options()\n",
    "options.add_argument(\"--headless\")\n",
    "\n",
    "driver = webdriver.Chrome(options=options)"
   ]
  },
  {
   "cell_type": "code",
   "execution_count": 375,
   "metadata": {},
   "outputs": [],
   "source": [
    "links = [\n",
    "    \"https://www.allkeyshop.com/blog/buy-fortnite-eon-skin-xbox-one-compare-prices/\",\n",
    "]"
   ]
  },
  {
   "cell_type": "code",
   "execution_count": 376,
   "metadata": {},
   "outputs": [],
   "source": [
    "first_url = links[0]"
   ]
  },
  {
   "cell_type": "code",
   "execution_count": 377,
   "metadata": {},
   "outputs": [],
   "source": [
    "driver.get(first_url)"
   ]
  },
  {
   "cell_type": "code",
   "execution_count": 378,
   "metadata": {},
   "outputs": [],
   "source": [
    "body_el = driver.find_element_by_css_selector(\"body\")\n",
    "html_str = body_el.get_attribute(\"innerHTML\")"
   ]
  },
  {
   "cell_type": "code",
   "execution_count": 379,
   "metadata": {},
   "outputs": [],
   "source": [
    "html_obj = HTML(html=html_str)"
   ]
  },
  {
   "cell_type": "code",
   "execution_count": 380,
   "metadata": {},
   "outputs": [],
   "source": [
    "def scrape_product_page(url, title_lookup = \".text-truncate > span\", price_lookup = \"price-value\", platform_lookup = \"offers-merchant-name\"):\n",
    "    driver.get(url)\n",
    "    time.sleep(1.2)\n",
    "#     body_el = driver.find_element_by_css_selector(\"body\")\n",
    "#     html_str = body_el.get_attribute(\"innerHTML\")\n",
    "#     html_obj = HTML(html=html_str)\n",
    "\n",
    "#     product_title = html_obj.find(title_lookup, first=True).text\n",
    "    product_price = driver.find_elements_by_class_name(price_lookup)\n",
    "    product_platform = driver.find_elements_by_class_name(platform_lookup)\n",
    "    for price in product_price:\n",
    "#         for prlatform in product_platform:\n",
    "            \n",
    "        product_name = html_obj.find(title_lookup, first=True).text\n",
    "        prices_output = f\"{product_name}: {price.text}\"\n",
    "        print(prices_output)\n",
    "#     product_latform = html_obj.find(platform_lookup, first=False).text\n",
    "    \n",
    "#     return product_title, product_price, product_latform\n",
    "#     return product_price\n",
    "#     return prices_output"
   ]
  },
  {
   "cell_type": "code",
   "execution_count": 381,
   "metadata": {},
   "outputs": [
    {
     "name": "stdout",
     "output_type": "stream",
     "text": [
      "Fortnite Eon Skin: 51.36€\n",
      "Fortnite Eon Skin: 53.05€\n",
      "Fortnite Eon Skin: 53.05€\n",
      "Fortnite Eon Skin: 53.05€\n",
      "Fortnite Eon Skin: 96.99€\n",
      "Fortnite Eon Skin: 126.00€\n",
      "Fortnite Eon Skin: 126.04€\n",
      "Fortnite Eon Skin: 42.75€\n"
     ]
    }
   ],
   "source": [
    "for link in links:\n",
    "#     title, price, platform = (None, None, None)\n",
    "    prices = (None)\n",
    "    try:\n",
    "#         title, price, platform = scrape_product_page(link)\n",
    "        prices = scrape_product_page(link)\n",
    "    except:\n",
    "        pass\n",
    "        print(\"Error\")\n",
    "    if price:\n",
    "#         print(title, price, platform)\n",
    "#         print(prices)\n",
    "        import datetime\n",
    "        now = datetime.datetime.now()\n",
    "        print(prices,  file=open('Allkeyshop-Output.txt', 'a', encoding='utf-8'))\n",
    "        print(f\"{now.day}-{now.month}-{now.year} {now.hour}:{now.minute}:{now.second}\\n\", file=open('Allkeyshop-Output.txt', 'a', encoding='utf-8'))"
   ]
  },
  {
   "cell_type": "code",
   "execution_count": null,
   "metadata": {},
   "outputs": [],
   "source": []
  },
  {
   "cell_type": "code",
   "execution_count": null,
   "metadata": {},
   "outputs": [],
   "source": []
  }
 ],
 "metadata": {
  "kernelspec": {
   "display_name": "Python 3",
   "language": "python",
   "name": "python3"
  },
  "language_info": {
   "codemirror_mode": {
    "name": "ipython",
    "version": 3
   },
   "file_extension": ".py",
   "mimetype": "text/x-python",
   "name": "python",
   "nbconvert_exporter": "python",
   "pygments_lexer": "ipython3",
   "version": "3.9.0"
  }
 },
 "nbformat": 4,
 "nbformat_minor": 4
}
