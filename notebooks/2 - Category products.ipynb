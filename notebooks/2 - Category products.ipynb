{
 "cells": [
  {
   "cell_type": "code",
   "execution_count": 1,
   "metadata": {},
   "outputs": [],
   "source": [
    "import requests\n",
    "from requests_html import HTML\n",
    "from selenium import webdriver\n",
    "import time\n",
    "from selenium.webdriver.chrome.options import Options"
   ]
  },
  {
   "cell_type": "code",
   "execution_count": 2,
   "metadata": {},
   "outputs": [],
   "source": [
    "options = Options()\n",
    "options.add_argument(\"--headless\")\n",
    "\n",
    "driver = webdriver.Chrome(options=options)"
   ]
  },
  {
   "cell_type": "code",
   "execution_count": 3,
   "metadata": {},
   "outputs": [],
   "source": [
    "categories = [\n",
    "    \"https://www.gittigidiyor.com/video-oyun-konsol/\",\n",
    "    \"https://www.gittigidiyor.com/ev-bahce/\",\n",
    "    \"https://www.gittigidiyor.com/bebek-arabasi-puset/\"\n",
    "]"
   ]
  },
  {
   "cell_type": "code",
   "execution_count": 4,
   "metadata": {
    "scrolled": true
   },
   "outputs": [
    {
     "data": {
      "text/plain": [
       "['https://www.gittigidiyor.com/video-oyun-konsol/',\n",
       " 'https://www.gittigidiyor.com/ev-bahce/',\n",
       " 'https://www.gittigidiyor.com/bebek-arabasi-puset/']"
      ]
     },
     "execution_count": 4,
     "metadata": {},
     "output_type": "execute_result"
    }
   ],
   "source": [
    "categories"
   ]
  },
  {
   "cell_type": "code",
   "execution_count": 5,
   "metadata": {},
   "outputs": [],
   "source": [
    "first_url = categories[0]"
   ]
  },
  {
   "cell_type": "code",
   "execution_count": 6,
   "metadata": {},
   "outputs": [],
   "source": [
    "driver.get(first_url)"
   ]
  },
  {
   "cell_type": "code",
   "execution_count": 7,
   "metadata": {},
   "outputs": [],
   "source": [
    "body_el = driver.find_element_by_css_selector(\"body\")\n",
    "html_str = body_el.get_attribute(\"innerHTML\")"
   ]
  },
  {
   "cell_type": "code",
   "execution_count": 8,
   "metadata": {},
   "outputs": [],
   "source": [
    "html_obj = HTML(html=html_str)"
   ]
  },
  {
   "cell_type": "code",
   "execution_count": 9,
   "metadata": {
    "tags": [
     "outputPrepend"
    ]
   },
   "outputs": [
    {
     "name": "stdout",
     "output_type": "stream",
     "text": [
      "['//www.gittigidiyor.com/kadin/kadin-aksesuar/kadin-sac-aksesuar', '//www.gittigidiyor.com/nikah-dugun/nikah-nisan', '//www.gittigidiyor.com/outdoor-oyuncak/oyun-evi-cadir', '//www.gittigidiyor.com/cilt-bakimi/vucut-bakimi/vucut-nemlendirici-krem-losyon-ve-yag', '//www.gittigidiyor.com/outdoor/outdoor-giyim', '//www.gittigidiyor.com/edebiyat-kitaplari', '//twitter.com/#!/GittiGidiyor', '//www.gittigidiyor.com/gida/bal-recel', '//www.gittigidiyor.com/spor/kaykay-paten-scooter', '//www.gittigidiyor.com/bebek-guvenligi', '//www.gittigidiyor.com/aile-planlamasi-cinsel-saglik/cinsel-urunler', '//www.ebay.pl/', '//www.gittigidiyor.com/outdoor/avcilik-balikcilik/avcilik-malzemeleri', '//www.gittigidiyor.com/bebek-bezi-ve-islak-havlu-alt-acma', '//www.gittigidiyor.com/sinema-poster-afis', '//www.gittigidiyor.com/beyaz-esya/ankastre-set', '//jobs.ebayinc.com/search-jobs?alp=298795-745042-745044&alt=4', '//www.gittigidiyor.com/cilt-bakimi/yuz-bakimi/yuz-nemlendirici-krem-losyon-yag', '//www.facebook.com/gittigidiyor', '//www.gittigidiyor.com/motosiklet-giyim-kask/eldiven', '//www.gittigidiyor.com/ofis-malzemeleri/kagit', '//www.gittigidiyor.com/kadin/kadin-giyim/kadin-plaj-giyim', '//www.gittigidiyor.com/spor/kaykay-paten-scooter/kaykay', '//www.gittigidiyor.com/tamir-tadilat-gerecleri/elektrikli-alet-edevat/matkap', '//www.gittigidiyor.com/enstruman/piyano-klavye', '//www.gittigidiyor.com/enstruman/gitar', '//www.gittigidiyor.com/video-kamera', '//www.gittigidiyor.com/erkek-kisisel-bakim-urunleri', '//www.gittigidiyor.com/icecek/meyve-sulari', '//www.gittigidiyor.com/gida/siviyag', '//www.gittigidiyor.com/bebek-oyuncaklari/egitici-gelistirici-oyuncak', '//www.gittigidiyor.com/outdoor/outdoor-cantalar', '//www.gittigidiyor.com/spor-outdoor', '//www.ebay.ph/', '//www.gittigidiyor.com/oto-yedek-parca-aksesuar/tamir-bakim-ve-temizlik-urunleri', '//www.gittigidiyor.com/kadin/kadin-aksesuar/kadin-gunes-gozlugu', '//www.gittigidiyor.com/bahce/cicek-bitki', '//www.gittigidiyor.com/emzirme/gogus-pompasi', '//www.gittigidiyor.com/kozmetik-kisisel-bakim', '//www.gittigidiyor.com/yapi-market-tamirat', '//www.gittigidiyor.com/isitma-sogutma-sistemi/vantilator', '//www.gittigidiyor.com/bilgisayar-tablet', '//www.gittigidiyor.com/yapi-malzemeleri-nalburiye/kapi-pervaz-kapi-aksesuar', '//www.gittigidiyor.com/oto-ses-goruntu-sistemleri/oto-teyp', '//www.gittigidiyor.com/parfum', '//www.gittigidiyor.com/bebek-beslenme', '//www.gittigidiyor.com/antika-sanat', '//www.gittigidiyor.com/fotograf-kamera', '//www.ebay.com.my/', '//www.gittigidiyor.com/ev-bahce-ve-ofis', '//www.gittigidiyor.com/bebek-bakim-saglik/krem-pisik-kremi-yag', '//www.gittigidiyor.com/dvd', '//www.ebay.de/', '//www.gittigidiyor.com/parti-malzemeleri/balon', '//www.gittigidiyor.com/spor/takim-sporlari/futbol-topu', '//www.gittigidiyor.com/makyaj/makyaj-arac-gerecleri', '//www.gittigidiyor.com/tamir-tadilat-gerecleri', '//www.gittigidiyor.com/muzik-plak-enstruman', '//www.gittigidiyor.com/erkek/erkek-giyim', '//www.gittigidiyor.com/kadin/kadin-canta', '//www.gittigidiyor.com/nikah-dugun/kina-gecesi', '//www.gittigidiyor.com/bahce-teras-bitki', '//www.gittigidiyor.com/oto-ses-goruntu-sistemleri/oto-teyp/cd-mp3-calar', '//www.gittigidiyor.com/uzaktan-kumandali-arac/drone', '//www.gittigidiyor.com/deterjan-temizlik-urunleri/camasir-yikama', '//www.gittigidiyor.com/kedi/kedi-tuvaleti-ve-urunleri', '//www.gittigidiyor.com/cocuk-giyim-aksesuar/erkek-cocuk-3-14', '//www.gittigidiyor.com/mutfak/mutfak-gerecleri', '//www.gittigidiyor.com/deterjan-temizlik-urunleri/temizlik-malzemeleri', '//www.gittigidiyor.com/gida/gida-aroma-boyasi', '//www.gittigidiyor.com/mutfak/mutfak-saklama-duzenleme/saklama-kabi', '//www.gittigidiyor.com/mobilya/bahce-mobilyalari', '//www.gittigidiyor.com/kulaklik', '//www.gittigidiyor.com/elektrikli-ev-aletleri', '//www.gittigidiyor.com/bebek-arabasi-puset/bebek-arabasi-aksesuar', '//www.gittigidiyor.com/bebek-hediyelik/resimlik-ve-ani-defteri', '//www.gittigidiyor.com/dizustu-bilgisayar-laptop-aksesuar', '//www.gittigidiyor.com/gida/bakliyat', '//www.gittigidiyor.com/spor/fitness-agirlik-kardiyo/agirlik-halter', '//www.gittigidiyor.com/saglik-medikal/hasta-bakim-ve-hareket-destek/yetiskin-bezi', '//www.gittigidiyor.com/bisiklet/bisiklet/sehir-tur-bisikleti', '//www.gittigidiyor.com/mobilya/mutfak-mobilyalari', '//www.gittigidiyor.com/spor/takim-sporlari/basketbol', '//www.gittigidiyor.com/cep-telefonu-aksesuar/kablo', '//www.gittigidiyor.com/sac-bakimi/sac-bakim-ve-sampuan/sampuan', '//www.gittigidiyor.com/cep-telefonu', '//www.gittigidiyor.com/ana-kucagi-oto-koltugu', '//www.gittigidiyor.com/ayakkabi?kullanici-tipi=Erkek', '//www.gittigidiyor.com/outdoor/avcilik-balikcilik/balikcilik-malzemeleri', '//www.gittigidiyor.com/eski-belge', '//www.gittigidiyor.com/deterjan-temizlik-urunleri/bulasik-yikama', '//www.gittigidiyor.com/sac-bakimi/masa-duzlestirici-elektrikli-firca', '//www.gittigidiyor.com/kedi/kedi-mamasi', '//www.ebay.at/', '//www.gittigidiyor.com/parfum/erkek-parfum', '//www.gittigidiyor.com/aydinlatma/ampul', '//www.gittigidiyor.com/deterjan-temizlik-urunleri/ev-temizleyiciler', '//www.gittigidiyor.com/oto-ses-goruntu-sistemleri/oto-teyp-aksesuar', '//www.gittigidiyor.com/cep-telefonu-aksesuar/sarj-cihazi', '//www.gittigidiyor.com/hobi-eglence-ve-sanat', '//www.gittigidiyor.com/nikah-dugun/ceyiz-sandigi', '//www.gittigidiyor.com/kopek/kopek-mamasi', '//www.gittigidiyor.com/icecek/diger-icecekler', '//www.gittigidiyor.com/beyaz-esya/bulasik-makinesi', '//www.gittigidiyor.com/antika-cam-obje', '//www.gittigidiyor.com/parfum/kadin-parfum', '//www.gittigidiyor.com/kopek', '//www.gittigidiyor.com/mobilya/yatak-odasi-mobilyalari', '//www.gittigidiyor.com/oto-yedek-parca-aksesuar/tamir-bakim-ve-temizlik-urunleri/oto-cila-parlatici', '//www.gittigidiyor.com/bebek-beslenme/bebek-mamasi', '//www.gittigidiyor.com/banyo/camasir-utu/camasir-kurutma-askisi', '//www.gittigidiyor.com/cep-telefonu-aksesuar/bluetooth-aksesuar', '//www.gittigidiyor.com/epilasyon-agda/epilator', '//www.gittigidiyor.com/bebek-bezi-ve-islak-havlu-alt-acma/bebek-bezi', '//www.gittigidiyor.com/epilasyon-agda', '//www.gittigidiyor.com/erkek-giyim/ic-camasiri-uyku-takimi', '//www.gittigidiyor.com/icecek/cay', '//www.ebay.in/', '//www.gittigidiyor.com/banyo', '//www.gittigidiyor.com/parti-malzemeleri', '//www.gittigidiyor.com/bebek-bezi-ve-islak-havlu-alt-acma/islak-havlu', '//www.gittigidiyor.com/oto-yedek-parca-aksesuar/oto-aksesuar/telefon-tablet-tutucu', '//www.gittigidiyor.com/bisiklet/bisiklet/cocuk-bisikleti', '//www.gittigidiyor.com/bahce', '//www.gittigidiyor.com/saglik-medikal/saglik-olcum-takip-cihazi/tansiyon-aleti', '//www.gittigidiyor.com/prefabrik-ev', '//www.gittigidiyor.com/bebek-bakim-saglik', '//www.gittigidiyor.com/spor/spor-elektronigi-aksiyon-kamerasi', '//www.gittigidiyor.com/ana-kucagi-oto-koltugu/ana-kucagi', '//www.gittigidiyor.com/kupe', '//www.gittigidiyor.com/kedi/saglik-bakim-urunleri', '//www.gittigidiyor.com/spor/dovus-sporlari/boks-kick-boks-muay-thai', '//www.gittigidiyor.com/outdoor', '//www.gittigidiyor.com/outdoor-oyuncak/akulu-arac', '//www.gittigidiyor.com/outdoor/kamp/sisme-yatak-sisme-yastik', '//www.gittigidiyor.com/agiz-dis-bakim', '//www.gittigidiyor.com/icecek/gunluk-icecekler', '//www.gittigidiyor.com/spor/takim-sporlari/kaleci-eldiveni', '//www.ebay.co.uk/', '//www.gittigidiyor.com/mutfak/mutfak-gerecleri/catal-kasik-bicak', '//www.gittigidiyor.com/avcilik-kamp', '//www.gittigidiyor.com/ana-kucagi-oto-koltugu/oto-koltugu', '//www.gittigidiyor.com/kedi', '//www.gittigidiyor.com/masaustu-gerecleri', '//www.instagram.com/gittigidiyor', '//www.gittigidiyor.com/kulce-ziynet-altin', '//www.gittigidiyor.com/spor/takim-sporlari/futbol-formasi-sortu', '//www.gittigidiyor.com/mobilya/ofis-mobilyalari', '//www.gittigidiyor.com/yuzuk', '//www.gittigidiyor.com/cocuk-giyim-aksesuar/kiz-cocuk-3-14', '//www.gittigidiyor.com/bebek-arabasi-puset', '//www.gittigidiyor.com/saat/kol-saati/uniseks-kol-saati', '//www.gittigidiyor.com/cinsel-ve-fantazi-urunler', '//www.gittigidiyor.com/dizustu-laptop-notebook-bilgisayar', '//www.gittigidiyor.com/bebek-hediyelik/bebek-sekerleri', '//www.gittigidiyor.com/sac-bakimi', '//www.gittigidiyor.com/motosiklet-giyim-kask', '//www.gittigidiyor.com/moda', '//www.youtube.com/user/GittiGidiyorcom', '//www.gittigidiyor.com/bisiklet/bisiklet/dag-kros-bisikleti', '//www.gittigidiyor.com/edebiyat-kitaplari/roman', '//www.gittigidiyor.com/aydinlatma/avize-sarkit', '//www.gittigidiyor.com/aydinlatma', '//blog.gittigidiyor.com', '//www.gittigidiyor.com/motosiklet-parca-aksesuar/motosiklet-parcalari/aku', '//www.gittigidiyor.com/outdoor-oyuncak/kaydirak-salincak', '//www.gittigidiyor.com/bebek-beslenme/bebek-beslenme-gerecleri/biberon', '//www.gittigidiyor.com/outdoor/outdoor-ayakkabi', '//www.gittigidiyor.com/bahce-teras-bitki/bahce-aletleri', '//www.gittigidiyor.com/uydu-alicisi-aksesuar', '//www.gittigidiyor.com/icecek/kahve', '//www.gittigidiyor.com/outdoor/kamp/kamp-mutfagi', '//www.gittigidiyor.com/bebek-bakim-saglik/ates-olcer', '//www.gittigidiyor.com/oto-yedek-parca-aksesuar/otomobil-yedek-parca/amortisor-suspansiyon', '//www.gittigidiyor.com/koleksiyon', '//www.gittigidiyor.com/beyaz-esya/ocak', '//www.ebay.co.th', '//www.gittigidiyor.com/isitma-sogutma-sistemi/klima-ve-aksesuarlari', '//www.ebay.com/', '//www.gittigidiyor.com/emzirme/gogus-pedi-ve-koruyucu', '//www.ebay.ca/', '//www.gittigidiyor.com/gida/diyabetik-gida', '//www.gittigidiyor.com/oto-yedek-parca-aksesuar/oto-aksesuar/koltuk-koltuk-kilifi', '//www.gittigidiyor.com/kalem', '//www.gittigidiyor.com/oto-yedek-parca-aksesuar/lastik-jant-ekipmanlar/lastik', '//www.ebay.be/', '//www.gittigidiyor.com/dijital-fotograf-makinesi', '//www.ebay.it/', '//www.gittigidiyor.com/agirlik-kardiyo-fitness', '//www.gittigidiyor.com/oto-yedek-parca-aksesuar/oto-aksesuar/branda-ortu', '//www.gittigidiyor.com/spor/fitness-agirlik-kardiyo/kosu-bandi', '//www.gittigidiyor.com/cep-telefonu-aksesuar/ekran-koruyucu', '//www.ebay.ie/', '//www.gittigidiyor.com/antika-obje', '//www.gittigidiyor.com/gida/yoresel-urunler', '//www.gittigidiyor.com/spor/takim-sporlari/futbol-taraftar-urunleri', '//www.gittigidiyor.com/kedi/kedi-kumu', '//www.gittigidiyor.com', '//www.gittigidiyor.com/filmli-fotograf-makinesi', '//www.gittigidiyor.com/cocuk-giyim-aksesuar', '//www.gittigidiyor.com/mutfak/mutfak-gerecleri/tencere-takimi', '//www.gittigidiyor.com/taki-saat', '//www.gittigidiyor.com/aydinlatma/bahce-dis-ortam-aydinlatmasi', '//www.gittigidiyor.com/bisiklet-scooter/bisiklet', '//www.gittigidiyor.com/gida/seker-ve-tuz', '//www.gittigidiyor.com/bebek-hediyelik', '//www.gittigidiyor.com/tv-ses-goruntu', '//www.gittigidiyor.com/beyaz-esya/firinlar', '//www.gittigidiyor.com/servisler/site-haritasi', '//www.gittigidiyor.com/erkek-aksesuar', '//www.gittigidiyor.com/antika-tespih', '//www.gittigidiyor.com/mobilya', '//www.gittigidiyor.com/balik-akvaryum', '//www.gittigidiyor.com/enstruman/mizrapli-calgi/baglama', '//www.ruten.com.tw/', '//www.gittigidiyor.com/ayakkabi/spor-ayakkabi?kullanici-tipi=Erkek', '//www.gittigidiyor.com/gida', '//www.gittigidiyor.com/kus/kus-kafesi', '//www.gittigidiyor.com/elektrikli-mutfak-aletleri/tost-makinesi', '//www.gittigidiyor.com/oto-yedek-parca-aksesuar/lastik-jant-ekipmanlar/lastik?lastik-tipi=Yaz%20Lasti%C4%9Fi', '//www.gittigidiyor.com/elektrikli-mutfak-aletleri/kahve-makinesi', '//www.gittigidiyor.com/bebek-guvenligi/koruyucular-kilitler', '//www.gittigidiyor.com/kulce-ziynet-altin/kulce-gram-altin', '//www.gittigidiyor.com/pul-posta-tarihi', '//www.gittigidiyor.com/nikah-dugun', '//www.gittigidiyor.com/oto-yedek-parca-aksesuar/tamir-bakim-ve-temizlik-urunleri/temizlik-urunleri', '//www.gittigidiyor.com/oto-yedek-parca-aksesuar/otomobil-yedek-parca/filtre', '//www.gittigidiyor.com/isitma-sogutma-sistemi/radyator-isiticilar', '//www.gittigidiyor.com/besin-takviyesi', '//www.gittigidiyor.com/gida/baharat', '//www.gittigidiyor.com/tamir-tadilat-gerecleri/elektrikli-alet-edevat/dekupaj-testere-bicki-makinesi', '//www.linkedin.com/company/gittigidiyor', '//www.gittigidiyor.com/spor/su-sporlari', '//www.gittigidiyor.com/parti-malzemeleri/kostum', '//www.gittigidiyor.com/plak', '//www.gittigidiyor.com/otomobil-aracilik-hizmetleri', '//www.gittigidiyor.com/makyaj/goz-makyaji/rimel-maskara', '//www.gittigidiyor.com/motosiklet-parca-aksesuar/motosiklet-parcalari/lastik-jant', '//www.gittigidiyor.com/kulce-ziynet-altin/tassiz-altin-bilezik', '//www.gittigidiyor.com/elektronik', '//www.gittigidiyor.com/elektrikli-mutfak-aletleri', '//kurumsal.gittigidiyor.com', '//www.gittigidiyor.com/outdoor/kamp/cadir', '//www.gittigidiyor.com/erkek-aksesuar/gunes-gozlugu', '//www.gittigidiyor.com/kolye', '//www.gittigidiyor.com/bebek-arabasi-puset/bebek-arabasi', '//www.gittigidiyor.com/cevre-birimleri/yedekleme-depolama', '//www.gittigidiyor.com/bebek-bezi-ve-islak-havlu-alt-acma/alt-acma-seti', '//www.gittigidiyor.com/motosiklet-giyim-kask/ceket-mont', '//www.gittigidiyor.com/otomobil-motor-aksesuar', '//www.gittigidiyor.com/saat/kol-saati/erkek-kol-saati', '//www.gittigidiyor.com/oto-yedek-parca-aksesuar/oto-aksesuar/arac-ici-aksesuar', '//www.gittigidiyor.com/balik-akvaryum/balik-su-canlisi', '//www.gittigidiyor.com/ayakkabi-sandalet-terlik/spor-ayakkabi?kullanim-alani=Futbol', '//www.gittigidiyor.com/icecek', '//www.gittigidiyor.com/tablet-aksesuar', '//www.gittigidiyor.com/beyaz-esya', '//www.gittigidiyor.com/bilezik-bileklik', '//www.gittigidiyor.com/aile-planlamasi-cinsel-saglik/prezervatif-kondom', '//www.gittigidiyor.com/inanc-kitaplari-mitolojiler', '//www.gittigidiyor.com/parti-malzemeleri/susleme-malzemeleri', '//www.gittigidiyor.com/cilt-bakimi', '//www.gittigidiyor.com/cep-telefonu-ve-aksesuar', '//www.gittigidiyor.com/oto-yedek-parca-aksesuar/oto-aksesuar/bagaj-havuzu', '//www.gittigidiyor.com/spor/takim-sporlari/futbol-aksesuar-ekipman', '//www.gittigidiyor.com/saat', '//www.gittigidiyor.com/uzaktan-kumandali-arac/araba', '//www.gittigidiyor.com/outdoor-oyuncak', '//www.gittigidiyor.com/blu-ray', '//www.gittigidiyor.com/cilt-bakimi/yuz-bakimi/yuz-temizleyicisi-tonik', '//www.gittigidiyor.com/elektrikli-ev-aletleri/utu-utu-masasi/utu', '//www.gittigidiyor.com/bebek-oyuncaklari/oyun-halisi-ve-aksesuar', '//www.gittigidiyor.com/mobilya/salon-oturma-odasi-mobilyalari', '//www.gittigidiyor.com/besik-park-yatak-oyun-parki/yatak', '//www.gittigidiyor.com/kus/kus-yemi-odulu', '//www.gittigidiyor.com/ayakkabi?kullanici-tipi=Kad%C4%B1n', '//www.gittigidiyor.com/erkek-aksesuar/canta-cuzdan', '//www.gittigidiyor.com/besik-park-yatak-oyun-parki/besik', '//www.gittigidiyor.com/bebek-oyuncaklari', '//www.gittigidiyor.com/oto-yedek-parca-aksesuar/oto-aksesuar/arac-disi-aksesuar', '//www.gittigidiyor.com/motosiklet-parca-aksesuar/motosiklet-parcalari/yaglama', '//www.gittigidiyor.com/ayakkabi?kullanici-tipi=%C3%87ocuk', '//www.ebay.fr/', '//www.gittigidiyor.com/televizyon', '//www.gittigidiyor.com/evcil-hayvan', '//www.gittigidiyor.com/nikah-dugun/gelinlik-aksesuarlari', '//www.gittigidiyor.com/bebek-oyuncaklari/pelus-oyuncak', '//www.gittigidiyor.com/cevre-birimleri', '//www.gittigidiyor.com/uzaktan-kumandali-arac/hava-araci', '//www.gittigidiyor.com/agiz-dis-bakim/dis-macunu', '//www.gittigidiyor.com/saglik-medikal', '//www.gittigidiyor.com/spor/pilates-yoga-jimnastik/jimnastik-ekipmanlari', '//www.gittigidiyor.com/oto-ses-goruntu-sistemleri/oto-video', '//www.gittigidiyor.com/besik-park-yatak-oyun-parki/park-yatak-oyun-parki', '//www.gittigidiyor.com/dvd-blu-ray', '//www.gittigidiyor.com/oto-yedek-parca-aksesuar/oto-aksesuar/hali-paspas', '//www.gittigidiyor.com/cocuk-giyim-aksesuar/unisex-cocuk-3-14', '//www.gittigidiyor.com/motosiklet-parca-aksesuar/motosiklet-parcalari', '//www.gittigidiyor.com/cep-telefonu-aksesuar', '//www.gittigidiyor.com/spor/raket-sporlari/masa-tenisi', '//www.gittigidiyor.com/oto-yedek-parca-aksesuar/lastik-jant-ekipmanlar/lastik?lastik-tipi=D%C3%B6rt%20Mevsim', '//www.gittigidiyor.com/beyaz-esya/camasir-makinesi', '//www.gittigidiyor.com/erkek/erkek-giyim/erkek-yagmurluk', '//www.gittigidiyor.com/spor/pilates-yoga-jimnastik', '//www.gittigidiyor.com/icecek/gazli-icecekler', '//www.gittigidiyor.com/oto-yedek-parca-aksesuar/oto-aksesuar/etiket-arma', '//www.gittigidiyor.com/oto-yedek-parca-aksesuar/lastik-jant-ekipmanlar/lastik?lastik-tipi=K%C4%B1%C5%9F%20Lasti%C4%9Fi', '//www.gittigidiyor.com/yapi-malzemeleri-nalburiye', '//www.gittigidiyor.com/banyo/utu-masasi', '//www.gittigidiyor.com/emzirme', '//www.gittigidiyor.com/ofis-kirtasiye', '//www.gittigidiyor.com/saat/kol-saati/kadin-kol-saati', '//www.gittigidiyor.com/yoga-pilates-jimnastik', '//www.ebay.co.jp/', '//www.gittigidiyor.com/oyun-konsolu', '//www.gittigidiyor.com/antika-giyim-tekstil-el-isi', '//www.gittigidiyor.com/makyaj', '//www.ebay.com.hk/', '//www.gittigidiyor.com/balik-akvaryum/balik-yemi', '//www.gittigidiyor.com/besik-park-yatak-oyun-parki', '//www.gittigidiyor.com/cep-telefonu-yedek-parca', '//www.gittigidiyor.com/otomobil-aracilik-hizmetleri?v=normal', '//www.gittigidiyor.com/kopek/saglik-bakim-urunleri', '//www.gittigidiyor.com/ayakkabi/spor-ayakkabi?kullanici-tipi=Kad%C4%B1n', '//www.gittigidiyor.com/spor/su-sporlari/sisme-havuz', '//www.ebay.com.au/', '//www.ebay.es/', '//www.gittigidiyor.com/balik-akvaryum/filtre', '//www.gittigidiyor.com/bebek-guvenligi/yatak-bariyeri', '//www.gittigidiyor.com/bilgisayar-bilesenleri', '//www.gittigidiyor.com/elektrikli-mutfak-aletleri/blender', '//www.gittigidiyor.com/gida/kuruyemis-cips', '//www.gittigidiyor.com/aile-planlamasi-cinsel-saglik', '//www.gittigidiyor.com/oto-yedek-parca-aksesuar/otomobil-yedek-parca/aku', '//www.gittigidiyor.com/motosiklet-giyim-kask/kask', '//www.gittigidiyor.com/kulce-ziynet-altin/ziynet-altin', '//www.gittigidiyor.com/banyo/banyo-aksesuarlari/banyo-seti', '//www.gittigidiyor.com/elektrikli-ev-aletleri/elektrikli-supurge-aksesuar/elektrikli-supurge', '//www.gittigidiyor.com/para-madalya', '//www.gittigidiyor.com/elektrikli-mutfak-aletleri/cay-makinesi', '//www.gittigidiyor.com/supermarket', '//www.gittigidiyor.com/oto-yedek-parca-aksesuar/otomobil-yedek-parca', '//www.gittigidiyor.com/bisiklet/bisiklet/yol-yaris-bisikleti', '//www.gittigidiyor.com/mutfak/mutfak-gerecleri/tabak-kase', '//yardim.gittigidiyor.net/s/', '//www.gittigidiyor.com/agiz-dis-bakim/elektrikli-dis-fircasi', '//www.gittigidiyor.com/ofis-elektronigi', '//www.gittigidiyor.com/egitim-ders-kitaplari', '//www.ebay.com.sg/', '//www.gittigidiyor.com/tablet', '//www.gittigidiyor.com/oto-ses-goruntu-sistemleri/oto-teyp/radyo-kaset-calar', '//www.gittigidiyor.com/cep-telefonu-aksesuar/kilif', '//www.gittigidiyor.com/gida/sut-ve-sarkuteri-urunleri', '//www.gittigidiyor.com/video-oyun-konsol', '//www.gittigidiyor.com/erkek-kisisel-bakim-urunleri/erkek-tiras-urunu/tiras-bicagi', '//www.gittigidiyor.com/oto-yedek-parca-aksesuar/oto-aksesuar/tampon', '//www.gittigidiyor.com/oto-ses-goruntu-sistemleri/oto-hoparlor', '//www.gittigidiyor.com/kitap-dergi', '//www.gittigidiyor.com/enstruman/uflemeli-nefesli-calgi', '//www.gittigidiyor.com/gida/cikolata-ve-sekerleme', '//www.gittigidiyor.com/beyaz-esya/buzdolabi-sogutucu', '//www.gittigidiyor.com/gida/un-ve-unlu-mamuller', '//www.gittigidiyor.com/deterjan-temizlik-urunleri', '//www.gittigidiyor.com/bebek-anne', '//www.gittigidiyor.com/isitma-sogutma-sistemi', '//www.gittigidiyor.com/tamir-tadilat-gerecleri/elektrikli-alet-edevat/spiral-taslama-makinesi', '//www.gittigidiyor.com/mutfak/tencere-tava/tava', '//www.gittigidiyor.com/erkek-kisisel-bakim-urunleri/erkek-tiras-urunu/tiras-makinesi', '//www.gittigidiyor.com/kadin/kadin-giyim', '//www.gittigidiyor.com/kablo-olcme', '//www.ebay.vn/', '//www.gittigidiyor.com/oto-yedek-parca-aksesuar/oto-aksesuar/krom-kaplama', '//www.ebay.nl/', '//www.gittigidiyor.com/oto-ses-goruntu-sistemleri/oto-amplifikatoru', '//www.gittigidiyor.com/kadin-giyim-aksesuar/kadin-ic-giyim-takimlari', '//www.gittigidiyor.com/cocuk-kitaplari', '//www.gittigidiyor.com/giyilebilir-teknoloji/akilli-saat-aksesuar', '//www.gittigidiyor.com/ofis-malzemeleri', '//www.gittigidiyor.com/deterjan-temizlik-urunleri/kagit-urunleri', '//www.gittigidiyor.com/kus', '//www.gittigidiyor.com/futbol', '//www.gittigidiyor.com/elektrikli-ev-aletleri/elektrikli-supurge-aksesuar/elektrikli-supurge-aksesuar']\n"
     ]
    }
   ],
   "source": [
    "new_links = [x for x in html_obj.links if x.startswith(\"/\")]\n",
    "print(new_links)"
   ]
  },
  {
   "cell_type": "code",
   "execution_count": 10,
   "metadata": {},
   "outputs": [],
   "source": [
    "page_links = [f\"https://www.gittigidiyor.com{x}\" for x in new_links]"
   ]
  },
  {
   "cell_type": "code",
   "execution_count": 11,
   "metadata": {},
   "outputs": [],
   "source": [
    "# page_links"
   ]
  },
  {
   "cell_type": "code",
   "execution_count": 12,
   "metadata": {},
   "outputs": [],
   "source": [
    "def scrape_product_page(url, title_lookup = \"#sp-title\", price_lookup = \"#sp-price-highPrice\"):\n",
    "    driver.get(url)\n",
    "    time.sleep(1.2)\n",
    "    body_el = driver.find_element_by_css_selector(\"body\")\n",
    "    html_str = body_el.get_attribute(\"innerHTML\")\n",
    "    html_obj = HTML(html=html_str)\n",
    "    product_title = html_obj.find(title_lookup, first=True).text\n",
    "    product_price = html_obj.find(price_lookup, first=True).text\n",
    "    return product_title, product_price"
   ]
  },
  {
   "cell_type": "code",
   "execution_count": 13,
   "metadata": {},
   "outputs": [
    {
     "data": {
      "text/plain": [
       "'https://www.gittigidiyor.com//www.gittigidiyor.com/kadin/kadin-aksesuar/kadin-sac-aksesuar'"
      ]
     },
     "execution_count": 13,
     "metadata": {},
     "output_type": "execute_result"
    }
   ],
   "source": [
    "first_product_link = page_links[0]\n",
    "first_product_link"
   ]
  },
  {
   "cell_type": "code",
   "execution_count": null,
   "metadata": {},
   "outputs": [],
   "source": [
    "for link in page_links:\n",
    "    title, price = (None, None)\n",
    "    try:\n",
    "        title, price = scrape_product_page(link)\n",
    "    except:\n",
    "        pass\n",
    "    if price != None and title != None:\n",
    "        print(link, title, price)"
   ]
  },
  {
   "cell_type": "code",
   "execution_count": null,
   "metadata": {},
   "outputs": [],
   "source": []
  },
  {
   "cell_type": "code",
   "execution_count": null,
   "metadata": {},
   "outputs": [],
   "source": []
  },
  {
   "cell_type": "code",
   "execution_count": null,
   "metadata": {},
   "outputs": [],
   "source": []
  },
  {
   "cell_type": "code",
   "execution_count": null,
   "metadata": {},
   "outputs": [],
   "source": []
  }
 ],
 "metadata": {
  "kernelspec": {
   "display_name": "Python 3",
   "language": "python",
   "name": "python3"
  },
  "language_info": {
   "codemirror_mode": {
    "name": "ipython",
    "version": 3
   },
   "file_extension": ".py",
   "mimetype": "text/x-python",
   "name": "python",
   "nbconvert_exporter": "python",
   "pygments_lexer": "ipython3",
   "version": "3.9.0"
  }
 },
 "nbformat": 4,
 "nbformat_minor": 4
}
