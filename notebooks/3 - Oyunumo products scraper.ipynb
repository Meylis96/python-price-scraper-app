{
 "cells": [
  {
   "cell_type": "code",
   "execution_count": 1,
   "metadata": {},
   "outputs": [],
   "source": [
    "import requests\n",
    "from requests_html import HTML\n",
    "from selenium import webdriver\n",
    "import time\n",
    "from selenium.webdriver.chrome.options import Options"
   ]
  },
  {
   "cell_type": "code",
   "execution_count": 2,
   "metadata": {},
   "outputs": [],
   "source": [
    "options = Options()\n",
    "options.add_argument(\"--headless\")\n",
    "\n",
    "driver = webdriver.Chrome(options=options)"
   ]
  },
  {
   "cell_type": "code",
   "execution_count": 3,
   "metadata": {},
   "outputs": [],
   "source": [
    "links = [\n",
    "    \"https://www.gittigidiyor.com/video-oyun-konsol/the-sims-3-showtime-origin-cd-key-dlc-pc-hemen-teslim_pdp_607084672\",\n",
    "    \"https://www.gittigidiyor.com/video-oyun-konsol/the-sims-3-island-paradise-origin-cd-key-dlc-pc-island-paradise-hemen-teslim_pdp_607080572\",\n",
    "    \"https://www.gittigidiyor.com/video-oyun-konsol/the-sims-3-pets-origin-cd-key-dlc-pc-hemen-teslim_pdp_607059141\",\n",
    "    \"https://www.gittigidiyor.com/video-oyun-konsol/the-sims-3-late-night-origin-cd-key-dlc-pc-hemen-teslim_pdp_607065602\",\n",
    "    \"https://www.gittigidiyor.com/video-oyun-konsol/the-sims-3-into-the-future-origin-cd-key-dlc-pc-into-the-future-hemen-teslim_pdp_607054318\",\n",
    "    \"https://www.gittigidiyor.com/video-oyun-konsol/the-sims-3-university-life-origin-cd-key-dlc-pc-hemen-teslim_pdp_607064420\",\n",
    "    \"https://www.gittigidiyor.com/video-oyun-konsol/the-sims-3-master-suite-stuff-origin-cd-key-dlc-pc-hemen-teslim_pdp_607051131\",\n",
    "    \"https://www.gittigidiyor.com/video-oyun-konsol/the-sims-3-70s-80s-90s-stuff-origin-cd-key-dlc-pc-hemen-teslim_pdp_607069682\",\n",
    "    \"https://www.gittigidiyor.com/video-oyun-konsol/the-sims-3-world-adventures-origin-cd-key-dlc-pc-hemen-teslim_pdp_607062647\",\n",
    "    \"https://www.gittigidiyor.com/video-oyun-konsol/xbox-fifa-20-xbox-one-fifa-2020-xbox-live-cd-key-hemen-teslim_pdp_609255506\",\n",
    "    \"https://www.gittigidiyor.com/video-oyun-konsol/xbox-plants-vs-zombies-battle-for-neighborville-xbox-one-xbox-live-cd-key-hemen-teslim_pdp_609346522\",\n",
    "    \"https://www.gittigidiyor.com/video-oyun-konsol/xbox-red-dead-redemption-2-xbox-one-xbox-live-cd-key-hemen-teslim_pdp_609252743\",\n",
    "    \"https://www.gittigidiyor.com/video-oyun-konsol/titanfall-2-origin-cd-key-pc-hemen-teslim_pdp_606602348\",\n",
    "    \"https://www.gittigidiyor.com/video-oyun-konsol/tom-clancy-s-the-division-uplay-cd-key-hemen-teslim_pdp_602167924\",\n",
    "    \"https://www.gittigidiyor.com/video-oyun-konsol/tom-clancy-s-the-division-2-uplay-cd-key-hemen-teslim_pdp_602430614\",\n",
    "    \"https://www.gittigidiyor.com/video-oyun-konsol/command-conquer-red-alert-3-origin-cd-key-command-and-conquer-hemen-teslim_pdp_607754513\",\n",
    "    \"https://www.gittigidiyor.com/video-oyun-konsol/mass-effect-trilogy-origin-cd-key-hemen-teslim_pdp_607108632\",\n",
    "    \"https://www.gittigidiyor.com/video-oyun-konsol/mass-effect-2-origin-cd-key-hemen-teslim_pdp_607107418\",\n",
    "    \"https://www.gittigidiyor.com/video-oyun-konsol/hello-neighbor-pc-steam-cd-key-hemen-teslim_pdp_600229721\",\n",
    "    \"https://www.gittigidiyor.com/video-oyun-konsol/hello-neighbor-hide-seek-pc-steam-cd-key-hemen-teslim_pdp_610316124\",\n",
    "    \"https://www.gittigidiyor.com/video-oyun-konsol/kingdom-come-deliverance-pc-steam-cd-key-hemen-teslim_pdp_611423529\",\n",
    "    \"https://www.gittigidiyor.com/video-oyun-konsol/battlefield-4-origin-cd-key-bf-iv-pc-hemen-teslim_pdp_606979656\",\n",
    "    \"https://www.gittigidiyor.com/video-oyun-konsol/the-sims-4-spa-day-pc-dlc-origin-cd-key-hemen-teslim_pdp_600022998\",\n",
    "    \"https://www.gittigidiyor.com/video-oyun-konsol/the-sims-4-dine-out-pc-dlc-origin-cd-key-hemen-teslim_pdp_573140255\",\n",
    "    \"https://www.gittigidiyor.com/video-oyun-konsol/the-sims-4-jungle-adventure-pc-dlc-origin-cd-key-hemen-teslim_pdp_600022735\",\n",
    "    \"https://www.gittigidiyor.com/video-oyun-konsol/the-sims-4-tiny-living-pc-dlc-origin-cd-key-hemen-teslim_pdp_600034953\",\n",
    "    \"https://www.gittigidiyor.com/video-oyun-konsol/the-sims-3-ana-oyun-standart-edition-origin-cd-key-pc-hemen-teslim_pdp_607095890\",\n",
    "    \"https://www.gittigidiyor.com/video-oyun-konsol/medal-of-honor-origin-cd-key-pc-hemen-teslim_pdp_606606884\",\n",
    "    \"https://www.gittigidiyor.com/video-oyun-konsol/plants-vs-zombies-battle-for-neighborville-origin-cd-key-pc-hemen-teslim_pdp_607365117\",\n",
    "    \"https://www.gittigidiyor.com/video-oyun-konsol/minecraft-windows-10-edition-pc-cd-key-hemen-teslim_pdp_601187162\",\n",
    "    \"https://www.gittigidiyor.com/video-oyun-konsol/the-sims-4-origin-cd-key-ana-oyun-pc-hemen-teslim_pdp_573147763\",\n",
    "    \"https://www.gittigidiyor.com/video-oyun-konsol/football-manager-2020-pc-steam-key-fm-2020-hemen-teslim_pdp_571885481\",\n",
    "    \"https://www.gittigidiyor.com/video-oyun-konsol/fifa-20-pc-fifa-2020-origin-cd-key-hemen-teslim_pdp_574414366\",\n",
    "    \"https://www.gittigidiyor.com/video-oyun-konsol/origin-turkce-fifa-21-pc-fifa-2021-hemen-teslim-origin-cd-key_pdp_610036343\",\n",
    "    \"https://www.gittigidiyor.com/video-oyun-konsol/fortnite-bhangra-boogie-emote-dans-efekti-epic-games-key-dance-effect-pc-hemen-teslim_pdp_623137387\",\n",
    "    \"https://www.gittigidiyor.com/video-oyun-konsol/playstation-network-card-10-usd-us-psn-network-key-10-dolar-united-states-10-usa-hemen-teslim_pdp_593240958\",\n",
    "    \"https://www.gittigidiyor.com/video-oyun-konsol/playstation-network-20-usd-us-gift-card-psn-key-20-dolar-united-states-20-usa-hemen-teslim_pdp_600439810\",\n",
    "    \"https://www.gittigidiyor.com/video-oyun-konsol/playstation-store-50-dolar-usa-psn-network-us-key-50-usd-united-states-50-amerika-hemen-teslim_pdp_600439118\",\n",
    "    \"https://www.gittigidiyor.com/video-oyun-konsol/apple-itunes-50-dolar-us-apple-store-50-usd-gift-card-key-america-united-states-hemen-teslim_pdp_601054370\",\n",
    "    \"https://www.gittigidiyor.com/video-oyun-konsol/roblox-10-dolar-gift-card-800-robux-kredi-10-hemen-teslim_pdp_593085318\",\n",
    "    \"https://www.gittigidiyor.com/video-oyun-konsol/roblox-25-dolar-2000-robux-kredi-25-usd-gift-card-25-hemen-teslim_pdp_575677468\",\n",
    "    \"https://www.gittigidiyor.com/video-oyun-konsol/nba-2k20-pc-steam-cd-key-hemen-teslim_pdp_576246408\",\n",
    "    \"https://www.gittigidiyor.com/video-oyun-konsol/nba-2k-playgrounds-2-pc-steam-cd-key-hemen-teslim_pdp_605368111\",\n",
    "    \"https://www.gittigidiyor.com/video-oyun-konsol/command-conquer-the-ultimate-edition-collection-origin-cd-key-command-and-conquer-hemen-teslim_pdp_607137454\",\n",
    "    \"https://www.gittigidiyor.com/video-oyun-konsol/pes-2019-pc-steam-key-pro-evolution-soccer-2019-hemen-teslim_pdp_600346226\",\n",
    "    \"https://www.gittigidiyor.com/video-oyun-konsol/playstation-plus-3-ay-us-90-gun-psn-gift-card-key-3-months-amerika-united-states-hemen-teslim_pdp_600467812\",\n",
    "    \"https://www.gittigidiyor.com/video-oyun-konsol/apple-itunes-100-dolar-us-apple-store-100-usd-gift-card-america-united-states-hemen-teslim_pdp_601054094\",\n",
    "    \"https://www.gittigidiyor.com/video-oyun-konsol/50-tl-steam-cuzdan-kodu-steam-wallet-50-tl-aninda-teslim_pdp_593237721\",\n",
    "    \"https://www.gittigidiyor.com/video-oyun-konsol/apple-itunes-5-dolar-us-apple-store-5-usd-gift-card-key-5-united-states-hemen-teslim_pdp_601056209\",\n",
    "    \"https://www.gittigidiyor.com/video-oyun-konsol/apple-itunes-20-dolar-us-apple-store-20-usd-gift-card-key-america-united-states-hemen-teslim_pdp_601055339\",\n",
    "    \"https://www.gittigidiyor.com/video-oyun-konsol/project-cars-2-pc-steam-cd-key-hemen-teslim_pdp_593781830\",\n",
    "    \"https://www.gittigidiyor.com/video-oyun-konsol/100-usd-razer-gold-global-pin-100-dolar-100-hemen-teslim_pdp_593298983\",\n",
    "    \"https://www.gittigidiyor.com/video-oyun-konsol/the-sims-4-city-living-pc-dlc-origin-cd-key-hemen-teslim_pdp_600028007\",\n",
    "    \"https://www.gittigidiyor.com/video-oyun-konsol/the-sims-4-seasons-dlc-pc-origin-cd-key-hemen-teslim_pdp_573134459\",\n",
    "    \"https://www.gittigidiyor.com/video-oyun-konsol/the-sims-4-discover-university-pc-dlc-origin-cd-key-hemen-teslim_pdp_600028072\",\n",
    "    \"https://www.gittigidiyor.com/video-oyun-konsol/guild-wars-2-path-of-fire-official-website-ncsoft-key-pc-hemen-teslim_pdp_576328463\",\n",
    "    \"https://www.gittigidiyor.com/video-oyun-konsol/diablo-3-iii-rise-of-the-necromancer-battle-net-blizzard-cd-key-pc-hemen-teslim_pdp_608919794\",\n",
    "    \"https://www.gittigidiyor.com/video-oyun-konsol/simcity-4-deluxe-edition-steam-cd-key-pc-hemen-teslim_pdp_600344626\",\n",
    "    \"https://www.gittigidiyor.com/video-oyun-konsol/pc-battlenet-overwatch-cd-key-hemen-teslim_pdp_608877961\",\n",
    "    \"https://www.gittigidiyor.com/video-oyun-konsol/battlefield-5-pc-origin-cd-key-hemen-teslim_pdp_607013572\",\n",
    "    \"https://www.gittigidiyor.com/video-oyun-konsol/titanfall-origin-cd-key-pc-hemen-teslim_pdp_607407810\",\n",
    "    \"https://www.gittigidiyor.com/video-oyun-konsol/the-sims-4-get-famous-pc-dlc-origin-cd-key-hemen-teslim_pdp_600028278\",\n",
    "    \"https://www.gittigidiyor.com/video-oyun-konsol/the-sims-4-get-to-work-pc-dlc-origin-cd-key-hemen-teslim_pdp_600028373\",\n",
    "    \"https://www.gittigidiyor.com/video-oyun-konsol/the-sims-4-island-living-pc-origin-cd-key-hemen-teslim_pdp_600218206\",\n",
    "    \"https://www.gittigidiyor.com/video-oyun-konsol/the-sims-4-eco-lifestyle-dlc-pc-origin-cd-key-hemen-teslim_pdp_600027922\",\n",
    "    \"https://www.gittigidiyor.com/video-oyun-konsol/the-sims-4-cats-and-dogs-pc-origin-cd-key-hemen-teslim-cats-dogs_pdp_600222189\",\n",
    "    \"https://www.gittigidiyor.com/video-oyun-konsol/the-sims-4-get-together-pc-dlc-origin-cd-key-hemen-teslim_pdp_600034413\",\n",
    "    \"https://www.gittigidiyor.com/video-oyun-konsol/the-sims-4-realm-of-magic-pc-origin-cd-key-hemen-teslim_pdp_600219119\",\n",
    "    \"https://www.gittigidiyor.com/video-oyun-konsol/plants-vs-zombies-garden-warfare-origin-cd-key-pc-hemen-teslim_pdp_607365855\",\n",
    "    \"https://www.gittigidiyor.com/video-oyun-konsol/plants-vs-zombies-garden-warfare-2-origin-cd-key-pc-gw2-hemen-teslim_pdp_607366363\",\n",
    "    \"https://www.gittigidiyor.com/video-oyun-konsol/the-sims-4-parenthood-pc-dlc-origin-cd-key-hemen-teslim_pdp_600034809\",\n",
    "    \"https://www.gittigidiyor.com/video-oyun-konsol/need-for-speed-shift-origin-key-nfs-pc-hemen-teslim_pdp_593803369\",\n",
    "    \"https://www.gittigidiyor.com/video-oyun-konsol/fifa-17-pc-fifa-2017-origin-key-hemen-teslim_pdp_606606276\",\n",
    "    \"https://www.gittigidiyor.com/video-oyun-konsol/wwe-2k20-pc-steam-cd-key-hemen-teslim_pdp_571895849\",\n",
    "    \"https://www.gittigidiyor.com/video-oyun-konsol/the-sims-4-cool-kitchen-stuff-pc-dlc-origin-cd-key-hemen-teslim_pdp_600007745\",\n",
    "    \"https://www.gittigidiyor.com/video-oyun-konsol/the-sims-4-star-wars-journey-to-batuu-origin-cd-key-hemen-teslim_pdp_607401254\",\n",
    "    \"https://www.gittigidiyor.com/video-oyun-konsol/the-sims-4-outdoor-retreat-pc-dlc-origin-cd-key-hemen-teslim_pdp_573142377\",\n",
    "    \"https://www.gittigidiyor.com/video-oyun-konsol/xbox-gears-of-war-4-xbox-one-xbox-live-cd-key-hemen-teslim_pdp_609382044\",\n",
    "]"
   ]
  },
  {
   "cell_type": "code",
   "execution_count": 4,
   "metadata": {},
   "outputs": [],
   "source": [
    "first_url = links[0]"
   ]
  },
  {
   "cell_type": "code",
   "execution_count": 5,
   "metadata": {},
   "outputs": [],
   "source": [
    "driver.get(first_url)"
   ]
  },
  {
   "cell_type": "code",
   "execution_count": 6,
   "metadata": {},
   "outputs": [],
   "source": [
    "body_el = driver.find_element_by_css_selector(\"body\")\n",
    "html_str = body_el.get_attribute(\"innerHTML\")"
   ]
  },
  {
   "cell_type": "code",
   "execution_count": 7,
   "metadata": {},
   "outputs": [],
   "source": [
    "html_obj = HTML(html=html_str)"
   ]
  },
  {
   "cell_type": "code",
   "execution_count": 8,
   "metadata": {},
   "outputs": [],
   "source": [
    "def scrape_product_page(url, title_lookup = \"#sp-title\", price_lookup = \"#sp-price-highPrice\"):\n",
    "    driver.get(url)\n",
    "    time.sleep(1.2)\n",
    "    body_el = driver.find_element_by_css_selector(\"body\")\n",
    "    html_str = body_el.get_attribute(\"innerHTML\")\n",
    "    html_obj = HTML(html=html_str)\n",
    "    product_title = html_obj.find(title_lookup, first=True).text\n",
    "    product_price = html_obj.find(price_lookup, first=True).text\n",
    "    return product_title, product_price"
   ]
  },
  {
   "cell_type": "code",
   "execution_count": null,
   "metadata": {
    "scrolled": true
   },
   "outputs": [
    {
     "name": "stdout",
     "output_type": "stream",
     "text": [
      "The Sims 3 Showtime - Origin CD Key (DLC) - PC - Hemen Teslim 65,90 TL\n",
      "The Sims 3 Island Paradise - Origin CD Key (DLC) - PC island paradise - Hemen Teslim 249,90 TL\n",
      "The Sims 3 Pets - Origin CD Key (DLC) - PC - Hemen Teslim 79,90 TL\n",
      "The Sims 3 Late Night - Origin CD Key (DLC) - PC - Hemen Teslim 69,90 TL\n",
      "The Sims 3 into The Future - Origin CD Key (DLC) - PC Into The Future - Hemen Teslim 63,90 TL\n",
      "The Sims 3 University Life - Origin CD Key (DLC) - PC - Hemen Teslim 129,90 TL\n",
      "The Sims 3 Master Suite Stuff Origin CD Key (DLC) - PC - Hemen Teslim 73,90 TL\n",
      "The Sims 3 70s, 80s, & 90s Stuff - Origin CD Key (DLC) - PC - Hemen Teslim 79,90 TL\n",
      "The Sims 3 World Adventures - Origin CD Key (DLC) - PC - Hemen Teslim 73,90 TL\n",
      "[XBOX] FIFA 20 Xbox ONE - Fifa 2020 Xbox Live CD Key - Hemen Teslim 214,50 TL\n",
      "[XBOX] Plants vs. Zombies Battle for Neighborville - Xbox ONE - Xbox Live CD Key - Hemen Teslim 169,90 TL\n",
      "[XBOX] Red Dead Redemption 2 Xbox ONE - Xbox Live CD Key - Hemen Teslim 379,50 TL\n",
      "Titanfall 2 Origin CD Key - PC - Hemen Teslim 69,90 TL\n",
      "Tom Clancy's The Division - uPlay CD Key - Hemen Teslim 89,90 TL\n",
      "Tom Clancy's The Division 2 - uPlay CD Key - Hemen Teslim 219,90 TL\n",
      "Command & Conquer Red Alert 3 Origin CD Key - Command and Conquer Hemen Teslim 79,90 TL\n",
      "Mass Effect Trilogy Origin CD Key - Hemen Teslim 209,90 TL\n",
      "Mass Effect 2 Origin CD Key - Hemen Teslim 23,90 TL\n",
      "Hello Neighbor - PC - Steam CD Key - Hemen Teslim 27,00 TL\n",
      "Hello Neighbor Hide & Seek - PC - Steam CD Key - Hemen Teslim 27,00 TL\n",
      "Kingdom Come Deliverance - PC Steam CD Key - Hemen Teslim 144,90 TL\n",
      "Battlefield 4 Origin CD Key - BF IV PC - Hemen Teslim 61,90 TL\n",
      "The Sims 4 Spa Day - Pc (DLC) - Origin CD Key - Hemen Teslim 159,50 TL\n",
      "The Sims 4 Dine Out - Pc (DLC) - Origin CD Key - Hemen Teslim 167,50 TL\n",
      "The Sims 4 Jungle Adventure - Pc (DLC) - Origin CD Key - Hemen Teslim 159,50 TL\n",
      "The Sims 4 Tiny Living - Pc (DLC) - Origin CD Key - Hemen Teslim 124,50 TL\n",
      "The Sims 3 ( Ana Oyun ) Standart Edition - Origin CD Key - PC - Hemen Teslim 62,50 TL\n",
      "Medal Of Honor Origin Cd Key - PC - Hemen Teslim 39,90 TL\n",
      "Plants vs Zombies Battle for Neighborville - Origin CD Key - PC - Hemen Teslim 99,90 TL\n",
      "Minecraft Windows 10 Edition - PC - CD Key - Hemen Teslim 129,50 TL\n",
      "The Sims 4 Origin CD Key - (Ana oyun) - Pc Hemen Teslim 59,90 TL\n",
      "Football Manager 2020 - PC - Steam Key - FM 2020 - Hemen Teslim 117,00 TL\n",
      "FIFA 20 -PC - Fifa 2020 ORIGIN CD Key - Hemen Teslim 197,50 TL\n",
      "[ORIGIN] [TÜRKÇE] FIFA 21 - PC - Fifa 2021 - Hemen Teslim - Origin CD Key 388,50 TL\n",
      "Fortnite Bhangra Boogie Emote Dans Efekti - Epic Games Key Dance Effect - PC - Hemen Teslim 139,90 TL\n",
      "Playstation Network Card 10 USD US - PSN Network Key 10 Dolar UNITED STATES - $10 USA Hemen Teslim 99,90 TL\n",
      "Playstation Network 20 USD US Gift Card - PSN Key 20 Dolar UNITED STATES - $20 USA Hemen Teslim 199,99 TL\n",
      "Playstation Store 50 Dolar USA - PSN Network US Key 50 USD UNITED STATES - $50 Amerika Hemen Teslim 499,90 TL\n",
      "Apple iTunes 50 Dolar US - Apple Store 50 USD Gift Card Key - America - United States - Hemen Teslim 469,90 TL\n",
      "Roblox 10 Dolar Gift Card - 800 Robux Kredi - $10 Hemen Teslim 109,50 TL\n",
      "Roblox 25 Dolar - 2000 Robux Kredi - 25 Usd Gift Card - $25 Hemen Teslim 259,90 TL\n",
      "NBA 2K20 - PC - Steam CD Key - Hemen Teslim 107,00 TL\n",
      "NBA 2K Playgrounds 2 - PC - Steam CD Key - Hemen Teslim 14,90 TL\n",
      "Command & Conquer The Ultimate Edition (Collection) Origin CD Key - Command and Conquer Hemen Teslim 62,90 TL\n",
      "Pes 2019 - PC - Steam Key - Pro Evolution Soccer 2019 - Hemen Teslim 43,90 TL\n",
      "Playstation Plus 3 Ay US - 90 Gün PSN Gift Card Key 3 Months - Amerika United States- Hemen Teslim 179,99 TL\n",
      "Apple iTunes 100 Dolar US - Apple Store 100 USD Gift Card - America - United States - Hemen Teslim 959,50 TL\n",
      "50 TL Steam Cüzdan Kodu - Steam Wallet 50 TL- Anında Teslim 59,90 TL\n",
      "Apple iTunes 5 Dolar US - Apple Store 5 USD Gift Card Key - $5 United States - Hemen Teslim 54,90 TL\n",
      "Apple iTunes 20 Dolar US - Apple Store 20 USD Gift Card Key - America - United States - Hemen Teslim 198,90 TL\n",
      "Project Cars 2 - PC - Steam CD Key - Hemen Teslim 69,90 TL\n",
      "100 USD Razer Gold Global Pin - 100 Dolar - $100 Hemen Teslim 979,50 TL\n",
      "The Sims 4 City Living - Pc (DLC) - Origin CD Key - Hemen Teslim 199,00 TL\n",
      "The Sims 4 Seasons DLC - Pc - Origin CD Key - Hemen Teslim 175,00 TL\n",
      "The Sims 4 Discover University - Pc (DLC) - Origin CD Key - Hemen Teslim 193,00 TL\n",
      "Guild Wars 2 Path Of Fire Official Website - NCSoft Key - PC - Hemen Teslim 137,50 TL\n",
      "Diablo 3 III Rise Of The Necromancer Battle.net - Blizzard CD Key - PC - Hemen Teslim 145,00 TL\n",
      "SimCity 4 Deluxe Edition - Steam CD Key - PC - Hemen Teslim 23,00 TL\n",
      "[PC] [BATTLENET] OVERWATCH CD KEY - Hemen Teslim 144,90 TL\n",
      "Battlefield 5 - PC - Origin CD Key - Hemen Teslim 154,50 TL\n",
      "Titanfall Origin CD Key - PC - Hemen Teslim 49,00 TL\n",
      "The Sims 4 Get Famous - Pc (DLC) - Origin CD Key - Hemen Teslim 184,50 TL\n",
      "The Sims 4 Get To Work - Pc (DLC) - Origin CD Key - Hemen Teslim 176,90 TL\n"
     ]
    }
   ],
   "source": [
    "for link in links:\n",
    "    title, price = (None, None)\n",
    "    try:\n",
    "        title, price = scrape_product_page(link)\n",
    "    except:\n",
    "        pass\n",
    "    if price != None and title != None:\n",
    "        print(title, price)\n",
    "        import datetime\n",
    "        now = datetime.datetime.now()\n",
    "        print(title, price,  file=open('Output.txt', 'a', encoding='utf-8'))\n",
    "        print(f\"{now.day}-{now.month}-{now.year} {now.hour}:{now.minute}:{now.second}\\n\", file=open('Output.txt', 'a', encoding='utf-8'))"
   ]
  },
  {
   "cell_type": "code",
   "execution_count": null,
   "metadata": {},
   "outputs": [],
   "source": []
  }
 ],
 "metadata": {
  "kernelspec": {
   "display_name": "Python 3",
   "language": "python",
   "name": "python3"
  },
  "language_info": {
   "codemirror_mode": {
    "name": "ipython",
    "version": 3
   },
   "file_extension": ".py",
   "mimetype": "text/x-python",
   "name": "python",
   "nbconvert_exporter": "python",
   "pygments_lexer": "ipython3",
   "version": "3.9.0"
  }
 },
 "nbformat": 4,
 "nbformat_minor": 4
}
